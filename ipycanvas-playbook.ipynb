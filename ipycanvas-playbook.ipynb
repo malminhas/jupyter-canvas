{
 "cells": [
  {
   "cell_type": "markdown",
   "id": "bb506082-4885-421f-881c-c6433eaca7a9",
   "metadata": {},
   "source": [
    "# ipycanvas playbook"
   ]
  },
  {
   "cell_type": "markdown",
   "id": "2d092c92-9b10-44de-b609-9c4005b52264",
   "metadata": {},
   "source": [
    "## History\n",
    "* **25.12.21 v0.1**: First version xmas special"
   ]
  },
  {
   "cell_type": "markdown",
   "id": "78657269-02a4-4b52-813b-353c7eba6278",
   "metadata": {},
   "source": [
    "`ipycanvas` is an interactive canvas for Jupyter developed by Martin Renou.  It builds on `ipywidgets`.  See [here](https://ipycanvas.readthedocs.io/en/latest/index.html) for more details on `ipycanvas`."
   ]
  },
  {
   "cell_type": "markdown",
   "id": "0874f074-8819-4d9e-9281-089a25beb744",
   "metadata": {
    "tags": []
   },
   "source": [
    "## Installation"
   ]
  },
  {
   "cell_type": "markdown",
   "id": "cf250c57-a72a-4a43-8714-aa3f23e7abaa",
   "metadata": {},
   "source": [
    "Install `ipycanvas` via `pip`:"
   ]
  },
  {
   "cell_type": "markdown",
   "id": "17a6f25d-29d8-425a-86b4-89892292c53c",
   "metadata": {},
   "source": [
    "`$ pip install ipycanvas`"
   ]
  },
  {
   "cell_type": "markdown",
   "id": "863c7a6b-c80f-432a-8d74-6c5f76aff067",
   "metadata": {},
   "source": [
    "Install the `jupyterlab` extension:"
   ]
  },
  {
   "cell_type": "markdown",
   "id": "83494254-7b4a-4991-977e-4b2d9109a4ea",
   "metadata": {},
   "source": [
    "`$ jupyter labextension install @jupyter-widgets/jupyterlab-manager ipycanvas`"
   ]
  },
  {
   "cell_type": "markdown",
   "id": "2751a384-9cc6-46ed-8f3e-8754d8d6ce56",
   "metadata": {},
   "source": [
    "Check that the `ipycanvas` `jupyterlab` extension has been installed correctly - note that we are also running `jupyter-matplotlib` to support the [`solar-system` playbook](https://github.com/malminhas/solar-system/blob/main/solar-system-playbook.ipynb):"
   ]
  },
  {
   "cell_type": "code",
   "execution_count": 1,
   "id": "c8939fcb-fe8a-4c78-96ee-a37e9a2b4aae",
   "metadata": {},
   "outputs": [
    {
     "name": "stdout",
     "output_type": "stream",
     "text": [
      "JupyterLab v3.2.5\n",
      "/Users/malm/.virtualenvs/ipycanvas/share/jupyter/labextensions\n",
      "        ipycanvas v0.10.2 \u001b[32menabled\u001b[0m \u001b[32mOK\u001b[0m\n",
      "        jupyter-matplotlib v0.10.4 \u001b[32menabled\u001b[0m \u001b[32mOK\u001b[0m\n",
      "        @jupyter-widgets/jupyterlab-manager v3.0.1 \u001b[32menabled\u001b[0m \u001b[32mOK\u001b[0m (python, jupyterlab_widgets)\n",
      "\n",
      "Other labextensions (built into JupyterLab)\n",
      "   app dir: /Users/malm/.virtualenvs/ipycanvas/share/jupyter/lab\n",
      "\n"
     ]
    }
   ],
   "source": [
    "!jupyter labextension list"
   ]
  },
  {
   "cell_type": "markdown",
   "id": "80c7fdb8-3179-49aa-b248-b3e80556ba32",
   "metadata": {},
   "source": [
    "## Basic Usage"
   ]
  },
  {
   "cell_type": "markdown",
   "id": "70dd0b6e-a622-4f12-b634-5c216a5b13fd",
   "metadata": {},
   "source": [
    "`Canvas` is an interactive widget built on [`ipywidgets`](https://ipywidgets.readthedocs.io/en/latest/).  [`ipywidgets`](https://ipywidgets.readthedocs.io/en/latest/) aka `jupyter-widgets` or simply `widgets`, are interactive HTML widgets for Jupyter notebooks and the `IPython` kernel.  This first very simple example constructs a blue border rect using `stroke_rect` inside a red rect created using `fill_rect`.  Note the canvas constructor.  A `Canvas` of size 800x600 will take 800x600 pixels on the screen.  The canvas origin (0,0) is top left.  x is down, y is across from left to right."
   ]
  },
  {
   "cell_type": "code",
   "execution_count": 2,
   "id": "3c30dab0-8bcb-4638-a5d8-69ae8b6686b8",
   "metadata": {},
   "outputs": [
    {
     "data": {
      "application/vnd.jupyter.widget-view+json": {
       "model_id": "5fe8c46289ff47f98d278d57ed774424",
       "version_major": 2,
       "version_minor": 0
      },
      "text/plain": [
       "Canvas(height=200, width=200)"
      ]
     },
     "metadata": {},
     "output_type": "display_data"
    }
   ],
   "source": [
    "from ipycanvas import Canvas\n",
    "\n",
    "canvas = Canvas(width=200, height=200)\n",
    "canvas.fill_style = 'red'\n",
    "canvas.stroke_style = 'blue'\n",
    "canvas.fill_rect(25, 25, 100, 100)\n",
    "canvas.clear_rect(45, 45, 60, 60)\n",
    "canvas.stroke_rect(50, 50, 50, 50)\n",
    "canvas"
   ]
  },
  {
   "cell_type": "code",
   "execution_count": 3,
   "id": "14942605-390e-407a-85aa-1bf7da66dab2",
   "metadata": {},
   "outputs": [
    {
     "data": {
      "application/vnd.jupyter.widget-view+json": {
       "model_id": "3767bdcce1724baa91be5ccfdcb5617a",
       "version_major": 2,
       "version_minor": 0
      },
      "text/plain": [
       "Canvas(width=800)"
      ]
     },
     "metadata": {},
     "output_type": "display_data"
    }
   ],
   "source": [
    "import numpy as np\n",
    "\n",
    "n_particles = 100_000\n",
    "x = np.array(np.random.rayleigh(250, n_particles), dtype=np.int32)\n",
    "y = np.array(np.random.rayleigh(250, n_particles), dtype=np.int32)\n",
    "size = np.random.randint(1, 3, n_particles)\n",
    "canvas = Canvas(width=800, height=500)\n",
    "canvas.fill_style = 'green'\n",
    "canvas.fill_rects(x, y, size)\n",
    "\n",
    "canvas"
   ]
  },
  {
   "cell_type": "code",
   "execution_count": 4,
   "id": "1579600f-1547-40f7-9dc9-c3e6131b614e",
   "metadata": {},
   "outputs": [
    {
     "data": {
      "application/vnd.jupyter.widget-view+json": {
       "model_id": "991c6b25e33442918ab7bba29904c2cb",
       "version_major": 2,
       "version_minor": 0
      },
      "text/plain": [
       "Canvas(height=350, width=350)"
      ]
     },
     "metadata": {},
     "output_type": "display_data"
    }
   ],
   "source": [
    "from ipycanvas import Path2D\n",
    "\n",
    "canvas = Canvas(width=350, height=350)\n",
    "path1 = Path2D('M80 80 A 45 45, 0, 0, 0, 125 125 L 125 80 Z')\n",
    "canvas.fill_style = 'green'\n",
    "canvas.fill(path1)\n",
    "path2 = Path2D('M230 80 A 45 45, 0, 1, 0, 275 125 L 275 80 Z')\n",
    "canvas.fill_style = 'purple'\n",
    "canvas.fill(path2)\n",
    "path3 = Path2D('M80 230 A 45 45, 0, 0, 1, 125 275 L 125 230 Z')\n",
    "canvas.fill_style = 'red'\n",
    "canvas.fill(path3)\n",
    "path4 = Path2D('M230 230 A 45 45, 0, 1, 1, 275 275 L 275 230 Z')\n",
    "canvas.fill_style = 'blue'\n",
    "canvas.fill(path4)\n",
    "canvas"
   ]
  },
  {
   "cell_type": "markdown",
   "id": "fd553110-921d-4763-9bd6-0a090413bf6a",
   "metadata": {},
   "source": [
    "## `RoughCanvas`"
   ]
  },
  {
   "cell_type": "markdown",
   "id": "c9483581-59ff-413b-a642-cfc904aa9d6d",
   "metadata": {},
   "source": [
    "From the docs:\n",
    "> `ipycanvas` provides a special canvas class that automatically gives a hand-drawn style to your drawings. "
   ]
  },
  {
   "cell_type": "code",
   "execution_count": 5,
   "id": "c78d7d44-7d2a-4da8-9350-6526eeaaf18a",
   "metadata": {},
   "outputs": [
    {
     "data": {
      "application/vnd.jupyter.widget-view+json": {
       "model_id": "f9979e39017b41e196d93d8ae23086cf",
       "version_major": 2,
       "version_minor": 0
      },
      "text/plain": [
       "RoughCanvas()"
      ]
     },
     "metadata": {},
     "output_type": "display_data"
    }
   ],
   "source": [
    "from ipycanvas import RoughCanvas\n",
    "\n",
    "canvas = RoughCanvas()\n",
    "canvas.stroke_style = 'red'\n",
    "canvas.fill_style = 'blue'\n",
    "canvas.stroke_rect(100, 100, 100, 100)\n",
    "canvas.fill_rect(50, 50, 100, 100)\n",
    "canvas.stroke_style = 'purple'\n",
    "canvas.fill_style = 'green'\n",
    "canvas.stroke_circle(300, 300, 100)\n",
    "canvas.fill_circle(350, 350, 100)\n",
    "canvas.stroke_line(200, 200, 300, 300)\n",
    "canvas.font = '32px serif'\n",
    "canvas.fill_text('Drawing from Python is cool!', 10, 32)\n",
    "canvas"
   ]
  },
  {
   "cell_type": "markdown",
   "id": "e6182e1c-bf67-4de4-9beb-1dfd55a2f5c3",
   "metadata": {},
   "source": [
    "## Animation"
   ]
  },
  {
   "cell_type": "markdown",
   "id": "50ecfa06-6531-496f-9a6d-2bec877a4ba7",
   "metadata": {},
   "source": [
    "General advice is to always use hold_canvas!  Also to try to use the **vectorized** version of the base methods as much as possible if you want to exectute them multiple times (`fill_circles`, `fill_rects` etc).  To also make use of `canvas.sleep` if you can instead of `from time import sleep` so that the entire animation is sent at once to the front-end, making a smoother animation whatever the server latency. The following is taken from the example [here](https://github.com/martinRenou/ipycanvas/blob/master/examples/animation.ipynb)."
   ]
  },
  {
   "cell_type": "code",
   "execution_count": 6,
   "id": "d38507f8-e5a3-46f4-901c-af2437e29e1f",
   "metadata": {},
   "outputs": [],
   "source": [
    "from math import pi, cos, sin\n",
    "\n",
    "size = 200\n",
    "\n",
    "def draw(canvas, t):\n",
    "    step = 20\n",
    "    t1 = t / 1000.0\n",
    "    x = 0\n",
    "    while x < size + step:\n",
    "        y = 0\n",
    "        while y < size + step:\n",
    "            x_angle = y_angle = 2 * pi\n",
    "            angle = x_angle * (x / size) + y_angle * (y / size)\n",
    "            particle_x = x + 20 * cos(2 * pi * t1 + angle)\n",
    "            particle_y = y + 20 * sin(2 * pi * t1 + angle)\n",
    "            canvas.fill_circle(particle_x, particle_y, 6)\n",
    "            y = y + step\n",
    "        x = x + step\n",
    "        \n",
    "def fast_draw(canvas, t):\n",
    "    \"\"\"Same as draw, but using NumPy and the vectorized version of fill_circle: fill_circles\"\"\"\n",
    "    step = 20\n",
    "    t1 = t / 1000.0\n",
    "    x = np.linspace(0, size, int(size / step))\n",
    "    y = np.linspace(0, size, int(size / step))\n",
    "    xv, yv = np.meshgrid(x, y)\n",
    "    x_angle = y_angle = 2 * pi\n",
    "    angle = x_angle * (xv / size) + y_angle * (yv / size)\n",
    "    particle_x = xv + 20 * np.cos(2 * pi * t1 + angle)\n",
    "    particle_y = yv + 20 * np.sin(2 * pi * t1 + angle)\n",
    "    canvas.fill_circles(particle_x, particle_y, 6)\n",
    "    \n",
    "canvas = Canvas(width=size, height=size)\n",
    "canvas.fill_style = \"#fcba03\""
   ]
  },
  {
   "cell_type": "markdown",
   "id": "7507a44d-dcf5-4d6b-a3e3-b58f82b755c1",
   "metadata": {},
   "source": [
    "The following example caches the entire animation before sending it to the front-end. This results in a slow execution (caching), but it ensure a smooth animation on the front-end whichever the context (local or remote server).  It's slow to execute but offers smooth animation."
   ]
  },
  {
   "cell_type": "code",
   "execution_count": 7,
   "id": "a80d0e04-5129-4bd4-a9ff-bf4dadff3904",
   "metadata": {},
   "outputs": [
    {
     "data": {
      "application/vnd.jupyter.widget-view+json": {
       "model_id": "ddeeb8b9394f46129dcb439022811bf8",
       "version_major": 2,
       "version_minor": 0
      },
      "text/plain": [
       "Canvas(height=200, width=200)"
      ]
     },
     "metadata": {},
     "output_type": "display_data"
    }
   ],
   "source": [
    "from ipycanvas import hold_canvas\n",
    "\n",
    "with hold_canvas(canvas):\n",
    "    for i in range(200):\n",
    "        canvas.clear()\n",
    "        draw(canvas, i * 20.0)\n",
    "        canvas.sleep(20)\n",
    "canvas"
   ]
  },
  {
   "cell_type": "markdown",
   "id": "20f5bc61-232b-4a20-91db-f26894c896df",
   "metadata": {},
   "source": [
    "This example uses `canvas.sleep` and the vectorized `fill_circles`.  It is the best approach - super fast locally, super fast on a remote server."
   ]
  },
  {
   "cell_type": "code",
   "execution_count": 8,
   "id": "1554ddb5-026b-435b-84db-aba78151494c",
   "metadata": {},
   "outputs": [
    {
     "data": {
      "application/vnd.jupyter.widget-view+json": {
       "model_id": "ddeeb8b9394f46129dcb439022811bf8",
       "version_major": 2,
       "version_minor": 0
      },
      "text/plain": [
       "Canvas(height=200, width=200)"
      ]
     },
     "metadata": {},
     "output_type": "display_data"
    }
   ],
   "source": [
    "with hold_canvas(canvas):\n",
    "    for i in range(200):\n",
    "        canvas.clear()\n",
    "        fast_draw(canvas, i * 20.0)\n",
    "        canvas.sleep(20)   \n",
    "canvas"
   ]
  },
  {
   "cell_type": "markdown",
   "id": "ef7632ee-577c-4f52-99ef-a3e961491278",
   "metadata": {
    "tags": []
   },
   "source": [
    "## Fractal tree"
   ]
  },
  {
   "cell_type": "markdown",
   "id": "44216e4d-23f7-4f28-892a-ea098c08d87e",
   "metadata": {},
   "source": [
    "Taken from [this notebook](https://github.com/martinRenou/ipycanvas/blob/master/examples/fractals_tree.ipynb). The button in this example is another `pywidgets` interactive control. The `canvas` commands used are as follows:\n",
    "* `clear()` clears the entire canvas.\n",
    "* `restore()` restores the most recently saved canvas state.\n",
    "* `translate()` moves the canvas and its origin on the grid.\n",
    "* `rotate()` rotates the canvas clockwise around the current origin by the angle number of radians.\n",
    "* `save()` saves the entire state of the canvas.\n",
    "\n",
    "Note the use of `hold_canvas` to capture all canvas commands.  From the `ipycanvas` documentation:\n",
    "> the `hold_canvas` context manager which allows you to hold all the commands and send them in a single batch at the end. For optimal performance you should try to use hold_canvas as much as possible.\n",
    "\n",
    "Canvas states are stored on a stack. Every time the `save()` method is called, the current drawing state is pushed onto the stack. A drawing state consists of:\n",
    "* The transformations that have been applied (i.e. translate, rotate and scale – see next section).\n",
    "* The current values of the following attributes: `stroke_style`, `fill_style`, `global_alpha`, `line_width`, `line_cap`, `line_join`, `miter_limit`, `line_dash_offset`, `global_composite_operation`, `font`, `text_align`, `text_baseline`, `direction`.\n",
    "The `save()` method can be called as many times as you like. Each time the `restore()` method is called, the last saved state is popped off the stack and all saved settings are restored."
   ]
  },
  {
   "cell_type": "code",
   "execution_count": 9,
   "id": "4beffe69-e91d-4fe7-ac28-b2e7ed1da7e1",
   "metadata": {},
   "outputs": [
    {
     "data": {
      "application/vnd.jupyter.widget-view+json": {
       "model_id": "e5eb4b8dae714b1eb88e411f44f72949",
       "version_major": 2,
       "version_minor": 0
      },
      "text/plain": [
       "Canvas(height=600, width=800)"
      ]
     },
     "metadata": {},
     "output_type": "display_data"
    },
    {
     "data": {
      "application/vnd.jupyter.widget-view+json": {
       "model_id": "3e0a4972428d42f990480414c776d33b",
       "version_major": 2,
       "version_minor": 0
      },
      "text/plain": [
       "Button(description='Generate tree!', style=ButtonStyle())"
      ]
     },
     "metadata": {},
     "output_type": "display_data"
    }
   ],
   "source": [
    "from math import pi\n",
    "from random import uniform\n",
    "from ipywidgets import Button\n",
    "\n",
    "def recursive_draw_leaf(canvas, length, r_angle, r_factor, l_angle, l_factor):\n",
    "    canvas.stroke_line(0, 0, 0, -length)\n",
    "    canvas.translate(0, -length)\n",
    "    if length > 5:\n",
    "        canvas.save()\n",
    "        canvas.rotate(r_angle)\n",
    "        recursive_draw_leaf(\n",
    "            canvas, length * r_factor, r_angle, r_factor, l_angle, l_factor\n",
    "        )\n",
    "        canvas.restore()\n",
    "        canvas.save()\n",
    "        canvas.rotate(l_angle)\n",
    "        recursive_draw_leaf(\n",
    "            canvas, length * l_factor, r_angle, r_factor, l_angle, l_factor\n",
    "        )\n",
    "        canvas.restore()\n",
    "        \n",
    "def draw_tree(canvas):\n",
    "    with hold_canvas(canvas):\n",
    "        canvas.save()\n",
    "        canvas.clear()\n",
    "        canvas.translate(canvas.width / 2.0, canvas.height)\n",
    "        canvas.stroke_style = \"black\"\n",
    "        r_factor = uniform(0.6, 0.8)\n",
    "        l_factor = uniform(0.6, 0.8)\n",
    "        r_angle = uniform(pi / 10.0, pi / 5.0)\n",
    "        l_angle = uniform(-pi / 5.0, -pi / 10.0)\n",
    "        recursive_draw_leaf(canvas, 150, r_angle, r_factor, l_angle, l_factor)\n",
    "        canvas.restore()\n",
    "\n",
    "def click_callback(*args, **kwargs):\n",
    "    global canvas\n",
    "    draw_tree(canvas)\n",
    "    display(canvas)\n",
    "    display(button)\n",
    "\n",
    "canvas = Canvas(width=800, height=600)\n",
    "button = Button(description=\"Generate tree!\")\n",
    "button.on_click(click_callback)\n",
    "draw_tree(canvas)\n",
    "display(canvas)\n",
    "display(button)"
   ]
  }
 ],
 "metadata": {
  "kernelspec": {
   "display_name": "Python 3 (ipykernel)",
   "language": "python",
   "name": "python3"
  },
  "language_info": {
   "codemirror_mode": {
    "name": "ipython",
    "version": 3
   },
   "file_extension": ".py",
   "mimetype": "text/x-python",
   "name": "python",
   "nbconvert_exporter": "python",
   "pygments_lexer": "ipython3",
   "version": "3.9.6"
  }
 },
 "nbformat": 4,
 "nbformat_minor": 5
}
